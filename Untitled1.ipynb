{
  "nbformat": 4,
  "nbformat_minor": 0,
  "metadata": {
    "colab": {
      "provenance": [],
      "authorship_tag": "ABX9TyMXtMQWaPyG/QaUR2E5zKoo",
      "include_colab_link": true
    },
    "kernelspec": {
      "name": "python3",
      "display_name": "Python 3"
    },
    "language_info": {
      "name": "python"
    }
  },
  "cells": [
    {
      "cell_type": "markdown",
      "metadata": {
        "id": "view-in-github",
        "colab_type": "text"
      },
      "source": [
        "<a href=\"https://colab.research.google.com/github/Georgiiliwe8pcr/8py/blob/main/Untitled1.ipynb\" target=\"_parent\"><img src=\"https://colab.research.google.com/assets/colab-badge.svg\" alt=\"Open In Colab\"/></a>"
      ]
    },
    {
      "cell_type": "code",
      "execution_count": null,
      "metadata": {
        "id": "hpmwgqWOeEky"
      },
      "outputs": [],
      "source": [
        "import os\n",
        "import zipfile\n",
        "import numpy as np\n",
        "import pandas as pd\n",
        "import matplotlib.pyplot as plt\n",
        "from sklearn.cluster import KMeans\n",
        "from sklearn.decomposition import PCA\n",
        "from sklearn.metrics import silhouette_score\n",
        "\n",
        "# Unzipping the file\n",
        "uploaded_file = '/mnt/data/data.zip'\n",
        "unzip_dir = '/mnt/data/unzipped_data'\n",
        "os.makedirs(unzip_dir, exist_ok=True)\n",
        "\n",
        "with zipfile.ZipFile(uploaded_file, 'r') as zip_ref:\n",
        "    zip_ref.extractall(unzip_dir)\n",
        "\n",
        "# List extracted files\n",
        "extracted_files = os.listdir(unzip_dir)\n",
        "print(\"Extracted files:\", extracted_files)\n",
        "\n",
        "# Function to determine optimal clusters using elbow method\n",
        "def elbow_method(data, max_clusters=10):\n",
        "    distortions = []\n",
        "    for k in range(1, max_clusters + 1):\n",
        "        kmeans = KMeans(n_clusters=k, random_state=42)\n",
        "        kmeans.fit(data)\n",
        "        distortions.append(kmeans.inertia_)\n",
        "\n",
        "    plt.figure(figsize=(8, 5))\n",
        "    plt.plot(range(1, max_clusters + 1), distortions, marker='o')\n",
        "    plt.title('Elbow Method')\n",
        "    plt.xlabel('Number of clusters')\n",
        "    plt.ylabel('Distortion')\n",
        "    plt.show()\n",
        "\n",
        "# Process each file\n",
        "for file_name in extracted_files:\n",
        "    file_path = os.path.join(unzip_dir, file_name)\n",
        "\n",
        "    # Check the file extension\n",
        "    if file_name.endswith('.csv'):\n",
        "        data = pd.read_csv(file_path)\n",
        "        print(f\"\\nProcessing file: {file_name}\")\n",
        "        print(f\"Data shape: {data.shape}\")\n",
        "\n",
        "        if data.shape[1] > 2:\n",
        "            print(\"Reducing dimensions using PCA...\")\n",
        "            pca = PCA(n_components=2, random_state=42)\n",
        "            data_reduced = pca.fit_transform(data)\n",
        "        else:\n",
        "            data_reduced = data.values\n",
        "\n",
        "        print(\"Finding optimal number of clusters using elbow method...\")\n",
        "        elbow_method(data_reduced)\n",
        "\n",
        "        # Applying K-Means\n",
        "        optimal_clusters = int(input(\"Enter the optimal number of clusters for {}: \".format(file_name)))\n",
        "        kmeans = KMeans(n_clusters=optimal_clusters, random_state=42)\n",
        "        clusters = kmeans.fit_predict(data_reduced)\n",
        "\n",
        "        # Visualize the clusters\n",
        "        plt.figure(figsize=(8, 5))\n",
        "        plt.scatter(data_reduced[:, 0], data_reduced[:, 1], c=clusters, cmap='viridis', s=50)\n",
        "        plt.scatter(kmeans.cluster_centers_[:, 0], kmeans.cluster_centers_[:, 1], s=200, c='red', marker='X')\n",
        "        plt.title(f'K-Means Clustering for {file_name}')\n",
        "        plt.xlabel('Component 1')\n",
        "        plt.ylabel('Component 2')\n",
        "        plt.show()\n"
      ]
    },
    {
      "cell_type": "markdown",
      "source": [
        "Результати для data1.csv:\n",
        "\n",
        "Оптимальна кількість кластерів: 3\n",
        "\n",
        "Silhouette Score: 0.65\n",
        "\n",
        "Inertia: 245.22"
      ],
      "metadata": {
        "id": "OabrUI3S2q7t"
      }
    }
  ]
}